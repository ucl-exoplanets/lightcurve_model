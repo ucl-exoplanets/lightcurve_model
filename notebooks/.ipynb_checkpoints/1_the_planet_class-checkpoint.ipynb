{
 "cells": [
  {
   "cell_type": "code",
   "execution_count": null,
   "id": "988b5848",
   "metadata": {},
   "outputs": [],
   "source": [
    "%matplotlib notebook\n",
    "import matplotlib.pyplot as plt\n",
    "import pylightcurve as plc\n",
    "import numpy as np\n",
    "\n",
    "\n",
    "###############################################################################################\n",
    "##### Definitions\n",
    "###############################################################################################\n",
    "\n",
    "# The core culculations are provided to ofer maximum efficiency and they are available to \n",
    "# help developers build their own codes on the functionalities of PyLigthcurve.\n",
    "# To use the core calculation in PyLightcurve we need to be able to provide the following \n",
    "# information to the different functions:\n",
    "\n",
    "#     ra                             # float, in degrees\n",
    "#     dec                            # float, in degrees\n",
    "#     stellar_logg                   # float, in log(cm/s^2)\n",
    "#     stellar_temperature            # float, in Kelvin\n",
    "#     stellar_metallicity            # float, in dex(Fe/H) or dex(M/H)\n",
    "#     rp_over_rs                     # float, no units\n",
    "#     period                         # float, in days\n",
    "#     sma_over_rs                    # float, no units\n",
    "#     eccentricity                   # float, no units\n",
    "#     inclination                    # float, in degrees\n",
    "#     periastron                     # float, in degrees\n",
    "#     mid_time                       # float, in days (BJD_TDB)\n",
    "#     time_array                     # np.array dtype=float, in days (BJD_TDB)\n",
    "#     albedo                         # float, no units\n",
    "#     emissivity                     # float, no units\n",
    "\n",
    "# For the examples below we will use the paraeters of the famus HD209458b:\n",
    "\n",
    "ra = 330.795\n",
    "dec = 18.884\n",
    "stellar_logg = 4.36      \n",
    "stellar_temperature = 6065.0\n",
    "stellar_metallicity = 0.0\n",
    "rp_over_rs = 0.12086\n",
    "period = 3.5247486\n",
    "sma_over_rs = 8.76\n",
    "eccentricity = 0.0\n",
    "inclination = 86.71     \n",
    "periastron = 0.0\n",
    "mid_time = 2452826.62928\n",
    "albedo = 0.15 # assumed\n",
    "emissivity = 1.0 # assumed\n",
    "\n",
    "###############################################################################################"
   ]
  },
  {
   "cell_type": "code",
   "execution_count": null,
   "id": "c960cf47",
   "metadata": {},
   "outputs": [],
   "source": []
  }
 ],
 "metadata": {
  "kernelspec": {
   "display_name": "Python 3 (ipykernel)",
   "language": "python",
   "name": "python3"
  },
  "language_info": {
   "codemirror_mode": {
    "name": "ipython",
    "version": 3
   },
   "file_extension": ".py",
   "mimetype": "text/x-python",
   "name": "python",
   "nbconvert_exporter": "python",
   "pygments_lexer": "ipython3",
   "version": "3.11.5"
  }
 },
 "nbformat": 4,
 "nbformat_minor": 5
}
