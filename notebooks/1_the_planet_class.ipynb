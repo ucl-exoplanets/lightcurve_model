{
 "cells": [
  {
   "cell_type": "markdown",
   "id": "fa06101c",
   "metadata": {},
   "source": [
    "# 1. The ```plc.Planet``` class\n",
    "\n",
    "Since Pylightcurve 4.0.0 we can access many core calculations related to exoplanets through the ```plc.Planet``` object.\n",
    "\n",
    "## 1.1 Automated definition throught the ExoClock database\n",
    "\n",
    "We can quickly create a ```plc.Planet``` object based on catalague data as follows:"
   ]
  },
  {
   "cell_type": "code",
   "execution_count": null,
   "id": "e7365142",
   "metadata": {},
   "outputs": [],
   "source": [
    "%matplotlib notebook\n",
    "\n",
    "import numpy as np\n",
    "import matplotlib.pyplot as plt\n",
    "import pylightcurve as plc\n",
    "\n",
    "planet = plc.get_planet('hd209458b')"
   ]
  },
  {
   "cell_type": "markdown",
   "id": "489bfd8b",
   "metadata": {},
   "source": [
    "\n",
    "At the moment the data provided are base on the Exoplanet Characterisation Catalogue (ECC) developed as part of the [```ExoClock Project```](https://www.exoclock.space) ([Kokori et al. 2021](https://link.springer.com/article/10.1007/s10686-020-09696-3)). The catalogue contains about 750 objects and will gradually expand in future releases.\n",
    "\n",
    "To retrieve a list of all the available planet names we can type:\n"
   ]
  },
  {
   "cell_type": "code",
   "execution_count": null,
   "id": "c22c10ce",
   "metadata": {},
   "outputs": [],
   "source": [
    "plc.get_all_planets()"
   ]
  },
  {
   "cell_type": "markdown",
   "id": "2b58ef23",
   "metadata": {},
   "source": [
    "## 1.2 Manual definition\n",
    "\n",
    "Alternatively, we can define a ```plc.Planet``` object manually:\n"
   ]
  },
  {
   "cell_type": "code",
   "execution_count": null,
   "id": "d0be88c4",
   "metadata": {},
   "outputs": [],
   "source": [
    "planet = plc.Planet(\n",
    "    name='HD209458b',              # str\n",
    "    ra = 330.795,                  # float, in degrees\n",
    "    dec = 18.884,                  # float, in degrees\n",
    "    stellar_logg = 4.36,           # float, in log(cm/s^2)\n",
    "    stellar_temperature = 6065.0,  # float, in Kelvin\n",
    "    stellar_metallicity = 0.0,     # float, in dex(Fe/H) or dex(M/H)\n",
    "    rp_over_rs = 0.12086,          # float, no units\n",
    "    period = 3.5247486,            # float, in days\n",
    "    sma_over_rs = 8.76,            # float, no units\n",
    "    eccentricity = 0.0,            # float, no units\n",
    "    inclination = 86.71,           # float, in degrees          \n",
    "    periastron = 0.0,              # float, in degrees\n",
    "    mid_time = 2452826.62928,      # float, in days (BJD-TDB)  \n",
    "    ldc_method = 'claret',         # str, available methods: claret(default), power2, linear, quad\n",
    "    max_sub_exp_time=10,           # float, default = 10 seconds\n",
    "    precision=2,                   # int 0 to 10, default = 2\n",
    "    asc_node=0,                    # float, default = 0.0 degrees\n",
    "    albedo = 0.15,                 # float, default = 0.15, no units \n",
    "    emissivity = 1.0,              # float, default = 1.0, no units\n",
    ")"
   ]
  },
  {
   "cell_type": "markdown",
   "id": "203974a4",
   "metadata": {},
   "source": [
    "**Note**: if we have the ```mid_time``` in a format different from BJD<sub>TDB</sub> (e.g. HJD<sub>UTC</sub>) we need to convert it  before passing it to the planet object:\n",
    "``` python\n",
    "mid_time = plc.convert_to_bjd_tdb(ra, dec, mid_time_in_hjd_utc, 'HJD_UTC')\n",
    "```"
   ]
  },
  {
   "cell_type": "markdown",
   "id": "05f756bf",
   "metadata": {},
   "source": [
    "## 1.3 Definition of parameters\n",
    "\n",
    "\n",
    "| variable name            | type       | decription                                |unit                    |\n",
    "|:-------------------------|:----------:|:-----------------------------------------:|:----------------------:|\n",
    "| ``name``                 |``str``     |name of the planet                         |          --            |\n",
    "| ``ra``                   |``float``   |RA of the host star                        |degrees (ICRS)          |\n",
    "| ``dec``                  |``float``   |DEC of the host star                       |degrees (ICRS)          |\n",
    "| ``stellar_logg``         |``float``   |log(g) of the host star                    |log(cm/s<sup>2)         |\n",
    "| ``stellar_temperature``  |``float``   |effecive temperature of the host star      |Kelvin                  |\n",
    "| ``stellar_metallicity``  |``float``   |metallicity of the host star               |dex(Fe/H) or dex(M/H)   |\n",
    "| ``rp_over_rs``           |``float``   |plant-to-star radius ratio                 |          --            |\n",
    "| ``period``               |``float``   |orbital period                             |days                    |\n",
    "| ``sma_over_rs``          |``float``   |orbital semi-major axis relatively <br> to the stellar radius       |          --            |\n",
    "| ``eccentricity``         |``float``   |orbital eccentricity                       |          --            |\n",
    "| ``inclination``          |``float``   |orbital inclination                        |degrees                 |\n",
    "| ``periastron``           |``float``   |orbital argument of periastron             |degrees                 |\n",
    "| ``mid_time``             |``float``   |the time of conjunction with the planet in front of the star |days (BJD<sub>TDB</sub>)|\n",
    "\n",
    "\n",
    "\n",
    "### ```ldc_method = 'claret'```\n",
    "\n",
    "This parameter refers to the limb-darkening law that we want to use. The default value is ```claret```, and the other options are: ```power2```, ```linear``` and ```quad```.\n",
    "\n",
    "\n",
    "### ```max_sub_exp_time = 10```\n",
    "   \n",
    "This parameter defines the time-resolution of the integrated transit models (see below for what the intgated model is) that will be calculated for this planet, in seconds. The default value is 10, meaning that the integrated models with exposure times below 10 seconds will be identical. \n",
    "    \n",
    "    \n",
    "### ```precision = 2```\n",
    "\n",
    "This parameter is an option for the functions that calculate the relative flux during a transit or an eclipse. It refers to the precision of the numerical calculation of the Gauss–Kronrod quadrature, the default value is 2, and the other options are 3, 4, ... 10, meaning that 20, 30, 40, ... 100 quadrature points will be used.\n",
    "\n",
    "We can check the balance between precision and speed (to adjust the precision level to our needs), as follows:  \n"
   ]
  },
  {
   "cell_type": "code",
   "execution_count": null,
   "id": "2058106b",
   "metadata": {},
   "outputs": [],
   "source": [
    "planet.performance_report(array_size=100)"
   ]
  },
  {
   "cell_type": "markdown",
   "id": "8fa5e0f5",
   "metadata": {},
   "source": [
    "### ```asc_node = 0```\n",
    "    \n",
    "This is the longitude of the scending node in degrees. This parameter doesn't affect the transit or eclipse depth, and by default is 0.\n",
    "\n",
    "### ```albedo = 0.15```, ```emissivity = 1.0```\n",
    "    \n",
    "These two parameters have the above dafault values (no units) and they affect the theoretical calculation of the expected eclipse depth, as they are used to calculate the planetary temperature as folows:\n",
    " \n",
    "```python\n",
    "planet_temperature = stellar_temperature * np.sqrt(0.5 / sma_over_rs) * (((1 - albedo) / emissivity) ** 0.25)\n",
    "```"
   ]
  },
  {
   "cell_type": "markdown",
   "id": "0755ebeb",
   "metadata": {},
   "source": [
    "## 1.4 PyLightcurve core calculations though a ```planet``` object\n",
    "\n",
    "Through a ```plc.Planet``` object we can quickly access the core calculations of Pylightcurve \n",
    "These calulations are:\n",
    "\n",
    "- **```planet.exotethys```**: calculates the limb-darkening coefficients\n",
    "- **```planet.fp_over_fs```**: calculates the planet-to-star flux ratio (flux emmitted + reflected by the planet)\n",
    "- **```planet.convert_to_bjd_tdb```**: converts a time array from different time formats to BJD<sub>TDB</sub>\n",
    "- **```planet.convert_to_jd_utc```**: converts a time array from different time formats to JD<sub>UTC</sub>\n",
    "- **```planet.convert_to_relflux```**: converts a flux array from magnitude to relative flux\n",
    "- **```planet.planet_orbit```**: calculates the (x,y,z) position of the planet in a cartesian frame with the star at (0,0,0), the Earth at (+infinity,0,0) and the periastron located on the −y axis for $\\omega$=0.\n",
    "- **```planet.planet_star_projected_distance```**: calculates the distance between the planet and the star relatively to the stellar radius, as projected on the celestial sphere.\n",
    "- **```planet.planet_phase```**: calculates the planet phase with respect to the transit mid-time (time of conjunction when the planet is behind the star, no units)\n",
    "- **```planet.transit_depth```**: calculates the transit depth (in relative flux)\n",
    "- **```planet.transit_duration```**: calculates the transit duration (in days)\n",
    "- **```planet.transit_t12```**: calculates the time between transit contact points 1 and 2 (in days)\n",
    "- **```planet.eclipse_mid_time```**: calculates the eclipse mid-time (time of conjunction when the planet is behind the star, in days BJD<sub>TDB</sub>)\n",
    "- **```planet.eclipse_depth```**: calculates the eclipse depth (in relative flux)\n",
    "- **```planet.eclipse_duration```**: calculates the eclipse duration (in days)\n",
    "- **```planet.transit```**: calculates the transit model (in relative flux)\n",
    "- **```planet.eclipse```**: calculates the eclipse model (in relative flux)\n",
    "- **```planet.transit_integrated```**: calculates the exposure-integtared transit model (in relative flux)\n",
    "- **```planet.eclipse_integrated```**: calculates the exposure-integtared eclipse model (in relative flux)\n",
    "\n"
   ]
  },
  {
   "cell_type": "markdown",
   "id": "41c1d8cf",
   "metadata": {},
   "source": [
    "### 1.4.1 ```planet.exotethys``` \n",
    "\n",
    "*Calculates the limb-darkening coefficients.*\n",
    "\n",
    "PyLightcurve includes a wrapper for the [```ExoTETHyS```](https://github.com/ucl-exoplanets/ExoTETHyS) package ([Morello et al. 2020](https://iopscience.iop.org/article/10.3847/1538-3881/ab63dc)), to allow for the easy calclation of the limb-darkening coefficients.\n",
    "\n",
    "Returns a 4-element array. If the limb-darkening law used for the ```plc.Planet``` object is not ```claret```, the extra elements will be zero.\n",
    "\n",
    "**Example 1**:"
   ]
  },
  {
   "cell_type": "code",
   "execution_count": null,
   "id": "78e05643",
   "metadata": {},
   "outputs": [],
   "source": [
    "planet.exotethys(filter_name = 'COUSINS_R',)"
   ]
  },
  {
   "cell_type": "markdown",
   "id": "889f8017",
   "metadata": {},
   "source": [
    "**Example 2**:\n",
    "\n",
    "We may want to use different stellar models to calculate the limb-darkening coefficients\n",
    "There is a range of stellar models availabe throught the [```ExoTETHyS```](https://github.com/ucl-exoplanets/ExoTETHyS) package pachage.\n",
    "The default stellar model is the ```Phoenix_2018```. However some stellar parameters and some \n",
    "wavelengths, are not covered by all models. For example, ```Phoenix_2018``` are not availble \n",
    "for the ```irac4``` filter, or for very cool stars (e.g. 3000 K).\n",
    "The other stellar models are: ```Atlas_2000```, ```Phoenix_2012_13```, ```Phoenix_drift_2012```, ```Stagger_2015```, ```Stagger_2018```.\n",
    "Please consult the the [```ExoTETHyS```](https://github.com/ucl-exoplanets/ExoTETHyS) package page if an error occurs.\n",
    "    "
   ]
  },
  {
   "cell_type": "code",
   "execution_count": null,
   "id": "9ba64b9c",
   "metadata": {},
   "outputs": [],
   "source": [
    "planet.exotethys(filter_name = 'irac4', stellar_model='Atlas_2000')"
   ]
  },
  {
   "cell_type": "markdown",
   "id": "eefeceac",
   "metadata": {},
   "source": [
    "**Example 3**:\n",
    "\n",
    "For the cases where a specroscopic band-pass is needed, we can also specify a part of the filter's bandpass to be used, by defining the ```wlrange``` parameter (by default is ```None```). This is a list with two elements, indicating the limits (in Angstrom) within the filter bandpass that we want to use. The wavelength range needs to be within the limits of the filter bandpass, otherwise the calsulation will fail.\n"
   ]
  },
  {
   "cell_type": "code",
   "execution_count": null,
   "id": "b038c7fe",
   "metadata": {},
   "outputs": [],
   "source": [
    "planet.exotethys(filter_name = 'hst_wfc3_ir_g141', wlrange = [11000, 12000])"
   ]
  },
  {
   "cell_type": "markdown",
   "id": "0d1b1b04",
   "metadata": {},
   "source": [
    "### 1.4.2 ```planet.fp_over_fs``` \n",
    "\n",
    "*Calculates the planet-to-star flux ratio (flux emmitted + reflected by the planet).*\n",
    "\n",
    "Here, the ```filter_name``` and ```wlrange``` parameters can be used in the same way as in the ```planet.exotethys``` funcion."
   ]
  },
  {
   "cell_type": "code",
   "execution_count": null,
   "id": "05eeb35e",
   "metadata": {},
   "outputs": [],
   "source": [
    "planet.fp_over_fs(filter_name='COUSINS_R')"
   ]
  },
  {
   "cell_type": "code",
   "execution_count": null,
   "id": "6ed3d283",
   "metadata": {},
   "outputs": [],
   "source": [
    "planet.fp_over_fs(filter_name = 'hst_wfc3_ir_g141', wlrange = [11000, 12000])"
   ]
  },
  {
   "cell_type": "markdown",
   "id": "1c53969d",
   "metadata": {},
   "source": [
    "### 1.4.3 ```planet.convert_to_bjd_tdb```\n",
    "\n",
    "*Converts a time array from different time formats to BJD<sub>TDB</sub>.*\n",
    "\n",
    "```time_format``` defines the format of the input time-series, and it can be: \n",
    "- ```JD_UTC```\n",
    "- ```MJD_UTC```\n",
    "- ```BJD_UTC```\n",
    "- ```BJD_TDB```\n",
    "- ```BJD_TT```\n",
    "- ```HJD_UTC```\n",
    "- ```HJD_BJD```\n",
    "- ```HJD_TT```"
   ]
  },
  {
   "cell_type": "code",
   "execution_count": null,
   "id": "388b2baa",
   "metadata": {},
   "outputs": [],
   "source": [
    "time_array_in_jd_utc = np.arange(2460000.0, 2460010.0, 0.1)\n",
    "\n",
    "time_array_in_bjd_tdb = planet.convert_to_bjd_tdb(time_array_in_jd_utc, time_format='JD_UTC')\n",
    "\n",
    "plt.figure(figsize=(7, 5))\n",
    "plt.plot(\n",
    "    time_array_in_bjd_tdb, \n",
    "    (time_array_in_bjd_tdb - time_array_in_jd_utc) * (24 * 60), 'ko')\n",
    "plt.ylabel(r'BJD$_\\mathrm{TDB}$ - JD$_\\mathrm{UTC}$ (min)')\n",
    "plt.xlabel(r'Time (BJD$_\\mathrm{TDB}$)')"
   ]
  },
  {
   "cell_type": "markdown",
   "id": "9b1668be",
   "metadata": {},
   "source": [
    "### 1.4.4 ```planet.convert_to_jd_utc```\n",
    "\n",
    "*Converts a time array from different time formats to JD<sub>UTC</sub>.*\n",
    "\n",
    "```time_format``` defines the format of the input time-series, and it can be: \n",
    "- ```JD_UTC```\n",
    "- ```MJD_UTC```\n",
    "- ```BJD_UTC```\n",
    "- ```BJD_TDB```\n",
    "- ```BJD_TT```\n",
    "- ```HJD_UTC```\n",
    "- ```HJD_BJD```\n",
    "- ```HJD_TT```"
   ]
  },
  {
   "cell_type": "code",
   "execution_count": null,
   "id": "a7c015ba",
   "metadata": {},
   "outputs": [],
   "source": [
    "time_array_in_bjd_tdb = np.arange(2460000.0, 2460010.0, 0.1)\n",
    "\n",
    "time_array_in_jd_utc = planet.convert_to_jd_utc(time_array_in_bjd_tdb, time_format='BJD_TDB')\n",
    "\n",
    "plt.figure(figsize=(7, 5))\n",
    "plt.plot(\n",
    "    time_array_in_bjd_tdb, \n",
    "    (time_array_in_bjd_tdb - time_array_in_jd_utc) * (24 * 60), 'ko')\n",
    "plt.ylabel(r'BJD$_\\mathrm{TDB}$ - JD$_\\mathrm{UTC}$ (min)')\n",
    "plt.xlabel(r'Time (BJD$_\\mathrm{TDB}$)')"
   ]
  },
  {
   "cell_type": "markdown",
   "id": "7d17d45e",
   "metadata": {},
   "source": [
    "### 1.4.5 ```planet.convert_to_relflux```\n",
    "\n",
    "*Converts a flux array from magnitude to relative flux.*\n",
    "\n",
    "```flux_format``` defines the format of the input series, and it can be: \n",
    "- ```flux```\n",
    "- ```mag```"
   ]
  },
  {
   "cell_type": "code",
   "execution_count": null,
   "id": "27f8568f",
   "metadata": {},
   "outputs": [],
   "source": [
    "planet.convert_to_relflux(np.array([9, 9.1, 9.2]), np.array([0.01, 0.01, 0.01]), 'mag')"
   ]
  },
  {
   "cell_type": "markdown",
   "id": "65000686",
   "metadata": {},
   "source": [
    "### 1.4.6 ```planet.planet_orbit```\n",
    "\n",
    "*Calculates the (x,y,z) position of the planet in a cartesian frame with the star at (0,0,0), the Earth at (+infinity,0,0) and the periastron located on the −y axis for $\\omega$=0.*"
   ]
  },
  {
   "cell_type": "code",
   "execution_count": null,
   "id": "a3841c6a",
   "metadata": {},
   "outputs": [],
   "source": [
    "time_array = np.arange(planet.mid_time - 1.5 * planet.period, planet.mid_time + 1.5 * planet.period, 0.01)\n",
    "\n",
    "x, y, z = planet.planet_orbit(time_array)\n",
    "\n",
    "plt.figure()\n",
    "plt.plot(time_array, x, 'ko', ms=2, label='x')\n",
    "plt.plot(time_array, y, 'ro', ms=2, label='y')\n",
    "plt.plot(time_array, z, 'bo', ms=2, label='z')\n",
    "plt.legend()\n",
    "plt.ylabel('Planet-star distance / $R_*$')\n",
    "plt.xlabel(r'Time (BJD$_\\mathrm{TDB}$)')"
   ]
  },
  {
   "cell_type": "markdown",
   "id": "7a34e925",
   "metadata": {},
   "source": [
    "### 1.4.7 ```planet.planet_star_projected_distance```\n",
    "\n",
    "*Calculates the distance between the planet and the star relatively to the stellar radius, as projected on the celestial sphere.*"
   ]
  },
  {
   "cell_type": "code",
   "execution_count": null,
   "id": "51760465",
   "metadata": {},
   "outputs": [],
   "source": [
    "time_array = np.arange(planet.mid_time - 1.5 * planet.period, planet.mid_time + 1.5 * planet.period, 0.01)\n",
    "\n",
    "planet_star_projected_distance = planet.planet_star_projected_distance(time_array)\n",
    "\n",
    "\n",
    "plt.figure()\n",
    "plt.plot(time_array, planet_star_projected_distance, 'ko', ms=2)\n",
    "plt.ylabel('Planet-star projected distance / $R_*$')\n",
    "plt.xlabel(r'Time (BJD$_\\mathrm{TDB}$)')"
   ]
  },
  {
   "cell_type": "markdown",
   "id": "627be872",
   "metadata": {},
   "source": [
    "### 1.4.8 ```planet.planet_phase```\n",
    "\n",
    "*Calculates the planet phase with respect to the transit mid-time (time of conjunction when the planet is in front of the star, no units).*"
   ]
  },
  {
   "cell_type": "code",
   "execution_count": null,
   "id": "53e80ac0",
   "metadata": {},
   "outputs": [],
   "source": [
    "time_array = np.arange(planet.mid_time - 1.5 * planet.period, planet.mid_time + 1.5 * planet.period, 0.01)\n",
    "\n",
    "planet_phase = planet.planet_phase(time_array)\n",
    "\n",
    "\n",
    "plt.figure()\n",
    "plt.plot(time_array, planet_phase, 'ko', ms=2)\n",
    "plt.ylabel('Planet phase')\n",
    "plt.xlabel(r'Time (BJD_$\\mathrm{TDB}$)')"
   ]
  },
  {
   "cell_type": "markdown",
   "id": "70b7f104",
   "metadata": {},
   "source": [
    "### 1.4.9 ```planet.transit_depth```\n",
    "\n",
    "*Calculates the transit depth (in relative flux).*\n",
    "\n",
    "Here, the ```filter_name``` and ```wlrange``` parameters can be used in the same way as in the ```planet.exotethys``` funcion."
   ]
  },
  {
   "cell_type": "code",
   "execution_count": null,
   "id": "abc50f13",
   "metadata": {},
   "outputs": [],
   "source": [
    "planet.transit_depth(filter_name='COUSINS_R')"
   ]
  },
  {
   "cell_type": "code",
   "execution_count": null,
   "id": "a87738cc",
   "metadata": {},
   "outputs": [],
   "source": [
    "planet.transit_depth(filter_name = 'hst_wfc3_ir_g141', wlrange = [11000, 12000])"
   ]
  },
  {
   "cell_type": "markdown",
   "id": "9a27bc85",
   "metadata": {},
   "source": [
    "### 1.4.10 ```planet.transit_duration```\n",
    "\n",
    "*Calculates the transit duration (in days).*"
   ]
  },
  {
   "cell_type": "code",
   "execution_count": null,
   "id": "63088546",
   "metadata": {},
   "outputs": [],
   "source": [
    "planet.transit_duration()"
   ]
  },
  {
   "cell_type": "markdown",
   "id": "2e4dd6f3",
   "metadata": {},
   "source": [
    "### 1.4.11 ```planet.transit_t12```\n",
    "\n",
    "*Calculates the time between transit contact points 1 and 2 (in days).*"
   ]
  },
  {
   "cell_type": "code",
   "execution_count": null,
   "id": "b5f05192",
   "metadata": {},
   "outputs": [],
   "source": [
    "planet.transit_t12()"
   ]
  },
  {
   "cell_type": "markdown",
   "id": "8008eb8b",
   "metadata": {},
   "source": [
    "### 1.4.12 ```planet.eclipse_mid_time```\n",
    "\n",
    "*Calculates the eclipse mid-time (time of conjunction when the planet is behind the star, in days BJD<sub>TDB</sub>).*"
   ]
  },
  {
   "cell_type": "code",
   "execution_count": null,
   "id": "fea4d446",
   "metadata": {},
   "outputs": [],
   "source": [
    "planet.eclipse_mid_time()"
   ]
  },
  {
   "cell_type": "markdown",
   "id": "3ba57fbc",
   "metadata": {},
   "source": [
    "### 1.4.13 ```planet.eclipse_depth```\n",
    "\n",
    "*Calculates the eclipse depth (in relative flux).*\n",
    "\n",
    "Here, the ```filter_name``` and ```wlrange``` parameters can be used in the same way as in the ```planet.exotethys``` funcion."
   ]
  },
  {
   "cell_type": "code",
   "execution_count": null,
   "id": "6019b1e3",
   "metadata": {},
   "outputs": [],
   "source": [
    "planet.eclipse_depth(filter_name='COUSINS_R')"
   ]
  },
  {
   "cell_type": "code",
   "execution_count": null,
   "id": "baf21447",
   "metadata": {},
   "outputs": [],
   "source": [
    "planet.eclipse_depth(filter_name = 'hst_wfc3_ir_g141', wlrange = [11000, 12000])"
   ]
  },
  {
   "cell_type": "markdown",
   "id": "7b8a65be",
   "metadata": {},
   "source": [
    "### 1.4.14 ```planet.eclipse_duration```\n",
    "\n",
    "*Calculates the eclipse duration (in days).*"
   ]
  },
  {
   "cell_type": "code",
   "execution_count": null,
   "id": "1dbea83e",
   "metadata": {},
   "outputs": [],
   "source": [
    "planet.eclipse_duration()"
   ]
  },
  {
   "cell_type": "markdown",
   "id": "87a1992d",
   "metadata": {},
   "source": [
    "### 1.4.15 ```planet.transit```\n",
    "\n",
    "*Calculates the transit model (in relative flux).*\n",
    "\n",
    "Here, the ```filter_name``` and ```wlrange``` parameters can be used in the same way as in the ```planet.exotethys``` funcion."
   ]
  },
  {
   "cell_type": "code",
   "execution_count": null,
   "id": "b0bc2fe9",
   "metadata": {},
   "outputs": [],
   "source": [
    "time_array = np.arange(planet.mid_time - 1.1 * planet.transit_duration(), \n",
    "                       planet.mid_time + 1.1 * planet.transit_duration(), 0.001)\n",
    "\n",
    "flux_jonhson_b = planet.transit(time_array, filter_name='JOHNSON_B')\n",
    "flux_cousins_r = planet.transit(time_array, filter_name='COUSINS_R')\n",
    "\n",
    "plt.figure()\n",
    "plt.plot(time_array, flux_jonhson_b, 'o', ms=2, label='JOHNSON_B')\n",
    "plt.plot(time_array, flux_cousins_r, 'ro', ms=2, label='COUSINS_R')\n",
    "plt.ylabel('Flux (relative)')\n",
    "plt.xlabel(r'Time (BJD$_\\mathrm{TDB}$)')\n",
    "plt.legend()\n"
   ]
  },
  {
   "cell_type": "markdown",
   "id": "4ddcebfc",
   "metadata": {},
   "source": [
    "### 1.4.16 ```planet.eclipse```\n",
    "\n",
    "*Calculates the eclipse model (in relative flux).*\n",
    "\n",
    "Here, the ```filter_name``` and ```wlrange``` parameters can be used in the same way as in the ```planet.exotethys``` funcion."
   ]
  },
  {
   "cell_type": "code",
   "execution_count": null,
   "id": "9b71a26b",
   "metadata": {},
   "outputs": [],
   "source": [
    "time_array = np.arange(planet.eclipse_mid_time() - 1.1 * planet.eclipse_duration(), \n",
    "                       planet.eclipse_mid_time() + 1.1 * planet.eclipse_duration(), 0.001)\n",
    "\n",
    "flux_jonhson_b = planet.eclipse(time_array, filter_name='JOHNSON_B')\n",
    "flux_cousins_r = planet.eclipse(time_array, filter_name='COUSINS_R')\n",
    "\n",
    "\n",
    "plt.figure()\n",
    "plt.plot(time_array, flux_jonhson_b, 'o', ms=2, label='JOHNSON_B')\n",
    "plt.plot(time_array, flux_cousins_r, 'ro', ms=2, label='COUSINS_R')\n",
    "plt.ylabel('Flux (relative)')\n",
    "plt.xlabel(r'Time (BJD$_\\mathrm{TDB}$)')\n",
    "plt.legend()"
   ]
  },
  {
   "cell_type": "markdown",
   "id": "12120e5b",
   "metadata": {},
   "source": [
    "### 1.4.17 ```planet.transit_integrated```\n",
    "\n",
    "*Calculates the exposure-integtared transit model (in relative flux).*\n",
    "\n",
    "```exp_time``` defines the exposure time of each dtaapoint in seconds. The time array mush indicate the mid-exposure time. \n",
    "\n",
    "Here, the ```filter_name``` and ```wlrange``` parameters can be used in the same way as in the ```planet.exotethys``` funcion."
   ]
  },
  {
   "cell_type": "code",
   "execution_count": null,
   "id": "766174c9",
   "metadata": {},
   "outputs": [],
   "source": [
    "time_array = np.arange(planet.mid_time - 1.1 * planet.transit_duration(), \n",
    "                       planet.mid_time + 1.1 * planet.transit_duration(), 0.001)\n",
    "\n",
    "flux_jonhson_b = planet.transit_integrated(time_array, exp_time=100, filter_name='JOHNSON_B')\n",
    "flux_cousins_r = planet.transit_integrated(time_array, exp_time=100, filter_name='COUSINS_R')\n",
    "\n",
    "plt.figure()\n",
    "plt.plot(time_array, flux_jonhson_b, 'o', ms=2, label='JOHNSON_B')\n",
    "plt.plot(time_array, flux_cousins_r, 'ro', ms=2, label='COUSINS_R')\n",
    "plt.ylabel('Flux (relative)')\n",
    "plt.xlabel(r'Time (BJD$_\\mathrm{TDB}$)')\n",
    "plt.legend()\n"
   ]
  },
  {
   "cell_type": "code",
   "execution_count": null,
   "id": "4728d82d",
   "metadata": {},
   "outputs": [],
   "source": [
    "time_array = np.arange(planet.mid_time - 1.1 * planet.transit_duration(), \n",
    "                       planet.mid_time + 1.1 * planet.transit_duration(), 0.001)\n",
    "\n",
    "flux_cousins_r_10s = planet.transit_integrated(time_array, exp_time=10, filter_name='COUSINS_R')\n",
    "flux_cousins_r_100s = planet.transit_integrated(time_array, exp_time=100, filter_name='COUSINS_R')\n",
    "\n",
    "plt.figure()\n",
    "plt.plot(time_array, 1000000*(flux_cousins_r_10s - flux_cousins_r_100s), 'ko', ms=2)\n",
    "plt.ylabel('Flux 10s exposure - 100s exposure (ppm)')\n",
    "plt.xlabel(r'Time (BJD$_\\mathrm{TDB}$)')\n",
    "plt.legend()\n"
   ]
  },
  {
   "cell_type": "markdown",
   "id": "ab040917",
   "metadata": {},
   "source": [
    "### 1.4.18 ```planet.eclipse_integrated```\n",
    "\n",
    "*Calculates the exposure-integtared eclipse model (in relative flux).*\n",
    "\n",
    "```exp_time``` defines the exposure time of each dtaapoint in seconds. The time array mush indicate the mid-exposure time. \n",
    "\n",
    "Here, the ```filter_name``` and ```wlrange``` parameters can be used in the same way as in the ```planet.exotethys``` funcion."
   ]
  },
  {
   "cell_type": "code",
   "execution_count": null,
   "id": "d224f778",
   "metadata": {},
   "outputs": [],
   "source": [
    "time_array = np.arange(planet.eclipse_mid_time() - 1.1 * planet.eclipse_duration(), \n",
    "                       planet.eclipse_mid_time() + 1.1 * planet.eclipse_duration(), 0.001)\n",
    "\n",
    "flux_jonhson_b = planet.eclipse_integrated(time_array, exp_time=100, filter_name='JOHNSON_B')\n",
    "flux_cousins_r = planet.eclipse_integrated(time_array, exp_time=100, filter_name='COUSINS_R')\n",
    "\n",
    "\n",
    "plt.figure()\n",
    "plt.plot(time_array, flux_jonhson_b, 'o', ms=2, label='JOHNSON_B')\n",
    "plt.plot(time_array, flux_cousins_r, 'ro', ms=2, label='COUSINS_R')\n",
    "plt.ylabel('Flux (relative)')\n",
    "plt.xlabel(r'Time (BJD$_\\mathrm{TDB}$)')\n",
    "plt.legend()"
   ]
  },
  {
   "cell_type": "markdown",
   "id": "11069b96",
   "metadata": {},
   "source": [
    "## 1.5 Creating a simulated light-curve"
   ]
  },
  {
   "cell_type": "code",
   "execution_count": null,
   "id": "1113ff77",
   "metadata": {},
   "outputs": [],
   "source": [
    "planet = plc.get_planet('WASP-12b')\n"
   ]
  },
  {
   "cell_type": "code",
   "execution_count": null,
   "id": "926016dc",
   "metadata": {},
   "outputs": [],
   "source": [
    "# define the filter\n",
    "filter_name = 'COUSINS_R'\n",
    "\n",
    "# define the out-of-transit observation time in hours\n",
    "oot = 2\n",
    "\n",
    "# define the exposure time in seconds\n",
    "exp_time = 60\n",
    "\n",
    "# define the noise (relatve flux)\n",
    "noise = 0.0001\n",
    "\n",
    "\n",
    "\n",
    "# calculate the transit duration \n",
    "transit_duration = planet.transit_duration()\n",
    "\n",
    "# define the time array\n",
    "time_array = np.arange(planet.mid_time - 0.5 * transit_duration - oot/24, \n",
    "                       planet.mid_time + 0.5 * transit_duration + oot/24, exp_time/60/60/24)\n",
    "\n",
    "# calculate model\n",
    "flux_array = planet.transit_integrated(time_array, exp_time=exp_time, filter_name=filter_name)\n",
    "\n",
    "# add noise\n",
    "flux_array += np.random.normal(0, noise, len(flux_array))\n",
    "\n",
    "# calculate phase\n",
    "phase_array = planet.planet_phase(time_array)\n",
    "\n",
    "\n",
    "\n",
    "plt.figure()\n",
    "plt.plot(phase_array, flux_array, 'ko', ms=2)\n",
    "plt.ylabel('Flux (relative)')\n",
    "plt.xlabel('Phase')\n"
   ]
  },
  {
   "cell_type": "code",
   "execution_count": null,
   "id": "d88f7f9d",
   "metadata": {},
   "outputs": [],
   "source": []
  }
 ],
 "metadata": {
  "kernelspec": {
   "display_name": "Python 3 (ipykernel)",
   "language": "python",
   "name": "python3"
  },
  "language_info": {
   "codemirror_mode": {
    "name": "ipython",
    "version": 3
   },
   "file_extension": ".py",
   "mimetype": "text/x-python",
   "name": "python",
   "nbconvert_exporter": "python",
   "pygments_lexer": "ipython3",
   "version": "3.11.5"
  }
 },
 "nbformat": 4,
 "nbformat_minor": 5
}
