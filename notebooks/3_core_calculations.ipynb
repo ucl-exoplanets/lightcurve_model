{
 "cells": [
  {
   "cell_type": "markdown",
   "id": "1d909081",
   "metadata": {},
   "source": [
    "# PyLightcurve core culculations\n",
    "\n",
    "The core culculations are provided to offer maximum efficiency and help you \n",
    "**build you own scripts or codes** upon the functionalities of PyLigthcurve.\n",
    "\n",
    "The functions that are included in the core calulations are:\n",
    "\n",
    "- **```plc.exotethys```**: calculates the limb-darkening coefficients\n",
    "- **```plc.fp_over_fs```**: calculates the planet-to-star flux ratio (flux emmitted + reflected by the planet)\n",
    "- **```plc.convert_to_bjd_tdb```**: converts a time array from different time formats to BJD<sub>TDB</sub>\n",
    "- **```plc.convert_to_jd_utc```**: converts a time array from different time formats to JD<sub>UTC</sub>\n",
    "- **```plc.convert_to_relflux```**: converts a flux array from magnitude to relative flux\n",
    "- **```plc.planet_orbit```**: calculates the (x,y,z) position of the planet in a cartesian frame with the star at (0,0,0), the Earth at (+infinity,0,0) and the periastron located on the −y axis for $\\omega$=0.\n",
    "- **```plc.planet_star_projected_distance```**: calculates the distance between the planet and the star relatively to the stellar radius, as projected on the celestial sphere.\n",
    "- **```plc.planet_phase```**: calculates the planet phase with respect to the transit mid-time (time of conjunction when the planet is behind the star, no units)\n",
    "- **```plc.transit_depth```**: calculates the transit depth (in relative flux)\n",
    "- **```plc.transit_duration```**: calculates the transit duration (in days)\n",
    "- **```plc.transit_t12```**: calculates the time between transit contact points 1 and 2 (in days)\n",
    "- **```plc.eclipse_mid_time```**: calculates the eclipse mid-time (time of conjunction when the planet is behind the star, in days BJD<sub>TDB</sub>)\n",
    "- **```plc.eclipse_depth```**: calculates the eclipse depth (in relative flux)\n",
    "- **```plc.eclipse_duration```**: calculates the eclipse duration (in days)\n",
    "- **```plc.transit```**: calculates the transit model (in relative flux)\n",
    "- **```plc.eclipse```**: calculates the eclipse model (in relative flux)\n",
    "- **```plc.transit_integrated```**: calculates the exposure-integtared transit model (in relative flux)\n",
    "- **```plc.eclipse_integrated```**: calculates the exposure-integtared eclipse model (in relative flux)\n",
    "- Angle conversions \n",
    "\n"
   ]
  },
  {
   "cell_type": "code",
   "execution_count": 1,
   "id": "526e79b0",
   "metadata": {},
   "outputs": [
    {
     "name": "stdout",
     "output_type": "stream",
     "text": [
      "exoclock: Checking ephemerides database...\n",
      "exoclock: Checking catalogues database...\n",
      "exoclock: Checking ut database...\n",
      "pylightcurve: Checking exotethys database...\n",
      "pylightcurve: Checking photometry database...\n"
     ]
    }
   ],
   "source": [
    "%matplotlib notebook\n",
    "import matplotlib.pyplot as plt\n",
    "import pylightcurve as plc\n",
    "import numpy as np"
   ]
  },
  {
   "cell_type": "markdown",
   "id": "46c2a99f",
   "metadata": {},
   "source": [
    "\n",
    "## 1. Definitions\n",
    "\n",
    "To use the core calculation in PyLightcurve we will need to provide some of the the following \n",
    "information.\n",
    "\n",
    "\n",
    "\n",
    "### 1.1 Stellar and planetary parameters\n",
    "\n",
    "Parameters that need to be provided by the user:\n",
    "\n",
    "| variable name            | type       | decription                                |unit                    |\n",
    "|:-------------------------|:----------:|:-----------------------------------------:|:----------------------:|\n",
    "| ``ra``                   |``float``   |RA of the host star                        |degrees (ICRS)          |\n",
    "| ``dec``                  |``float``   |DEC of the host star                       |degrees (ICRS)          |\n",
    "| ``stellar_logg``         |``float``   |log(g) of the host star                    |log(cm/s<sup>2)         |\n",
    "| ``stellar_temperature``  |``float``   |effecive temperature of the host star      |Kelvin                  |\n",
    "| ``stellar_metallicity``  |``float``   |metallicity of the host star               |dex(Fe/H) or dex(M/H)   |\n",
    "| ``rp_over_rs``           |``float``   |plant-to-star radius ratio                 |no units                |\n",
    "| ``period``               |``float``   |orbital period                             |days                    |\n",
    "| ``sma_over_rs``          |``float``   |orbital semi-major axis relatively <br> to the stellar radius       |no units|\n",
    "| ``eccentricity``         |``float``   |orbital eccentricity                       |no units                |\n",
    "| ``inclination``          |``float``   |orbital inclination                        |degrees                 |\n",
    "| ``periastron``           |``float``   |orbital argument of periastron             |degrees                 |\n",
    "| ``mid_time``             |``float``   |the time of conjunction with the planet in front of the star |days (BJD<sub>TDB</sub>)|\n",
    "| ``albedo``               |``float``   |planet albedo                              |no units                |\n",
    "| ``emissivity``           |``float``   |planet emissivity                          |no units                |\n",
    "\n",
    "\n",
    "Parameters that can be provided by the user or calculated through PyLightcurve:\n",
    "\n",
    "| variable name                  | type       | decription                                |unit                    |\n",
    "|:-------------------------------|:----------:|:-----------------------------------------:|:----------------------:|\n",
    "|``limb_darkening_coefficients``|``list``    |4-element list with the limb-darkening coefficients                        |no units          |\n",
    "|``fp_over_fs``                 |``float``   |plant-to-star flux ratio (emmitted + reflected) |no units                |\n",
    "| ``eclipse_mid_time``          |``float``   |the time of conjunction with the planet behind the star |days (BJD<sub>TDB</sub>)|\n",
    "\n",
    "\n",
    "### 1.2 ```filter_name```\n",
    "\n",
    "Some of the calculation in PyLighcurve are related to photometric/specroscopic filter. There are:\n",
    "- the calculation of limb-darkening coefficients, and\n",
    "- the calculation of the emmitted planetry flux.\n",
    "\n",
    "The assosiated parameter is ```filter_name```.\n",
    "\n",
    "There are different filters there are available by default in PyLighcurve, and you can see those by typing:\n",
    "\n",
    "```python\n",
    "plc.all_filters()\n",
    "```\n",
    "\n",
    "Alternatively, you can define your own filter as follows:\n",
    "```python\n",
    "plc.add_filter(filter_name, passband_file)\n",
    "```\n",
    "\n",
    "where the passband file should be a txt file containing two columns separated by space or tab:\n",
    "- column 1: wavelength in Angstrom\n",
    "- column 2: total throughput in electrons/photons.\n",
    "\n",
    "\n",
    "\n",
    "### 1.3 ```wlrange = None```\n",
    "\n",
    "For the cases where a photometric/specroscopic filter is needed, we can also specify a part of the filter's bandpass to be used, by defining the ```wlrange``` parameter (by default is ```None```). This is a list with two elements, indicating the limits (in Angstrom) within the filter bandpass that we want to use. The wavelength range needs to be within the limits of the photometric/specroscopic filter bandpass, otherwise the calsulation will fail (see Example 7 below).\n",
    "\n",
    "\n",
    "\n",
    "### 1.4  ```method = 'claret'```\n",
    "\n",
    "This parameter refers to the limb-darkening law that we want to use. The default value is ```claret```, and the other options are: ```linear``` and ```quad```.\n",
    "\n",
    "\n",
    "\n",
    "### 1.5 ```stellar_model = 'Phoenix_2018'```\n",
    "\n",
    "This parameter refers to stellar models that we want to use to calculate the limb-darkening coefficients\n",
    "There is a range of stellar models availabe throught the exotethys pachage.\n",
    "The default stellar model is the ```Phoenix_2018```. However some stellar parameters and some \n",
    "wavelengths, are not covered by all models. For example, ```Phoenix_2018``` are not availble \n",
    "for the ```irac4``` filter, or for very cool stars (e.g. 3000 K).\n",
    "The other stellar models are: ```Atlas_2000```, ```Phoenix_2012_13```, ```Phoenix_drift_2012```, ```Stagger_2015```, ```Stagger_2018```.\n",
    "Please consult the the [```ExoTETHyS```](https://github.com/ucl-exoplanets/ExoTETHyS) package page if an error occurs.\n",
    "    \n",
    "    \n",
    "    \n",
    "### 1.6  ```precision = 2```\n",
    "\n",
    "This parameter is an option for the fulctions that calculate the relative flux during a transit or an eclipse. It refers to the precision of the numerical calculation of the Gauss–Legendre quadrature, the default value is 2, and the other options are 3, 4, ... 10, meaning that 20, 30, 40, ... 100 quadrature points will be used."
   ]
  },
  {
   "cell_type": "code",
   "execution_count": 2,
   "id": "9ac5c19e",
   "metadata": {},
   "outputs": [],
   "source": [
    "# For the examples below we will use the paraeters of the famous HD209458b:\n",
    "\n",
    "ra = 330.795\n",
    "dec = 18.884\n",
    "stellar_logg = 4.36      \n",
    "stellar_temperature = 6065.0\n",
    "stellar_metallicity = 0.0\n",
    "rp_over_rs = 0.12086\n",
    "period = 3.5247486\n",
    "sma_over_rs = 8.76\n",
    "eccentricity = 0.0\n",
    "inclination = 86.71     \n",
    "periastron = 0.0\n",
    "mid_time = 2452826.62928\n",
    "albedo = 0.15 # assumed\n",
    "emissivity = 1.0 # assumed"
   ]
  },
  {
   "cell_type": "markdown",
   "id": "41c1d8cf",
   "metadata": {},
   "source": [
    "## 2. Core calculations\n",
    "\n",
    "### 2.1 ```plc.exotethys``` \n",
    "\n",
    "*calculates the limb-darkening coefficients*\n",
    "\n",
    "PyLightcurve includes a wrapper for the [```ExoTETHyS```](https://github.com/ucl-exoplanets/ExoTETHyS) package ([Morello et al. 2020](https://iopscience.iop.org/article/10.3847/1538-3881/ab63dc)), to allow for the easy calclation of the limb-darkening coefficients:\n",
    "\n",
    "``` python\n",
    "limb_darkening_coefficients =  plc.exotethys(stellar_logg, stellar_temperature, stellar_metallicity, filter_name, method='claret', stellar_model='Phoenix_2018', wlrange=None)\n",
    "```\n",
    "\n",
    "Returns a 4-element array. If the limb-darkening law used is not ```claret```, the extra elements will be zero."
   ]
  },
  {
   "cell_type": "markdown",
   "id": "026e68f7",
   "metadata": {},
   "source": [
    "**Example 1**:\n",
    "``` python \n",
    "filter_name='COUSINS_R', method='claret', stellar_model='Phoenix_2018'\n",
    "```"
   ]
  },
  {
   "cell_type": "code",
   "execution_count": 3,
   "id": "78e05643",
   "metadata": {},
   "outputs": [
    {
     "name": "stdout",
     "output_type": "stream",
     "text": [
      "File already here...  teff06000_logg4.00_MH0.0.pickle\n",
      "File already here...  teff06000_logg4.50_MH0.0.pickle\n",
      "File already here...  teff06100_logg4.00_MH0.0.pickle\n",
      "File already here...  teff06100_logg4.50_MH0.0.pickle\n"
     ]
    },
    {
     "data": {
      "text/plain": [
       "array([ 0.38056031,  0.15565698,  0.38746772, -0.23680038])"
      ]
     },
     "execution_count": 3,
     "metadata": {},
     "output_type": "execute_result"
    }
   ],
   "source": [
    "plc.exotethys(\n",
    "    stellar_logg, stellar_temperature, stellar_metallicity,\n",
    "    filter_name = 'COUSINS_R',\n",
    ")"
   ]
  },
  {
   "cell_type": "markdown",
   "id": "889f8017",
   "metadata": {},
   "source": [
    "**Example 2**:\n",
    "``` python \n",
    "filter_name='COUSINS_R', method='quad', stellar_model='Phoenix_2018'\n",
    "```"
   ]
  },
  {
   "cell_type": "code",
   "execution_count": 4,
   "id": "9ba64b9c",
   "metadata": {},
   "outputs": [
    {
     "name": "stdout",
     "output_type": "stream",
     "text": [
      "File already here...  teff06000_logg4.00_MH0.0.pickle\n",
      "File already here...  teff06000_logg4.50_MH0.0.pickle\n",
      "File already here...  teff06100_logg4.00_MH0.0.pickle\n",
      "File already here...  teff06100_logg4.50_MH0.0.pickle\n"
     ]
    },
    {
     "data": {
      "text/plain": [
       "array([0.44521087, 0.16232214, 0.        , 0.        ])"
      ]
     },
     "execution_count": 4,
     "metadata": {},
     "output_type": "execute_result"
    }
   ],
   "source": [
    "plc.exotethys(\n",
    "    stellar_logg, stellar_temperature, stellar_metallicity,\n",
    "    filter_name = 'COUSINS_R',\n",
    "    method = 'quad',\n",
    ")"
   ]
  },
  {
   "cell_type": "markdown",
   "id": "e231f4a4",
   "metadata": {},
   "source": [
    "**Example 3**:\n",
    "``` python \n",
    "filter_name='COUSINS_R', method='linear', stellar_model='Phoenix_2018'\n",
    "```"
   ]
  },
  {
   "cell_type": "code",
   "execution_count": 5,
   "id": "77640869",
   "metadata": {},
   "outputs": [
    {
     "name": "stdout",
     "output_type": "stream",
     "text": [
      "File already here...  teff06000_logg4.00_MH0.0.pickle\n",
      "File already here...  teff06000_logg4.50_MH0.0.pickle\n",
      "File already here...  teff06100_logg4.00_MH0.0.pickle\n",
      "File already here...  teff06100_logg4.50_MH0.0.pickle\n"
     ]
    },
    {
     "data": {
      "text/plain": [
       "array([0.53722501, 0.        , 0.        , 0.        ])"
      ]
     },
     "execution_count": 5,
     "metadata": {},
     "output_type": "execute_result"
    }
   ],
   "source": [
    "plc.exotethys(\n",
    "    stellar_logg, stellar_temperature, stellar_metallicity,\n",
    "    filter_name = 'COUSINS_R',\n",
    "    method = 'linear',\n",
    ")"
   ]
  },
  {
   "cell_type": "markdown",
   "id": "b5a5f1a2",
   "metadata": {},
   "source": [
    "**Example 4**:\n",
    "``` python \n",
    "filter_name='COUSINS_R', method='quad', stellar_model='Atlas_2000'\n",
    "```"
   ]
  },
  {
   "cell_type": "code",
   "execution_count": 6,
   "id": "c7c23202",
   "metadata": {},
   "outputs": [
    {
     "name": "stdout",
     "output_type": "stream",
     "text": [
      "File already here...  teff06000_logg4.0_MH0.0.pickle\n",
      "File already here...  teff06000_logg4.5_MH0.0.pickle\n",
      "File already here...  teff06250_logg4.0_MH0.0.pickle\n",
      "File already here...  teff06250_logg4.5_MH0.0.pickle\n"
     ]
    },
    {
     "data": {
      "text/plain": [
       "array([ 0.21057386,  1.07824683, -0.85391282,  0.2530806 ])"
      ]
     },
     "execution_count": 6,
     "metadata": {},
     "output_type": "execute_result"
    }
   ],
   "source": [
    "plc.exotethys(\n",
    "    stellar_logg, stellar_temperature, stellar_metallicity,\n",
    "    filter_name = 'COUSINS_R',\n",
    "    stellar_model = 'Atlas_2000',\n",
    ")"
   ]
  },
  {
   "cell_type": "markdown",
   "id": "eefeceac",
   "metadata": {},
   "source": [
    "**Example 5**:\n",
    "``` python \n",
    "filter_name='hst_wfc3_ir_g141', method='claret', stellar_model='Phoenix_2018', wlrange = [11000, 12000]\n",
    "```"
   ]
  },
  {
   "cell_type": "code",
   "execution_count": 7,
   "id": "b038c7fe",
   "metadata": {},
   "outputs": [
    {
     "name": "stdout",
     "output_type": "stream",
     "text": [
      "File already here...  teff06000_logg4.00_MH0.0.pickle\n",
      "File already here...  teff06000_logg4.50_MH0.0.pickle\n",
      "File already here...  teff06100_logg4.00_MH0.0.pickle\n",
      "File already here...  teff06100_logg4.50_MH0.0.pickle\n"
     ]
    },
    {
     "data": {
      "text/plain": [
       "array([ 0.34534734,  0.22695593, -0.00705248, -0.05772022])"
      ]
     },
     "execution_count": 7,
     "metadata": {},
     "output_type": "execute_result"
    }
   ],
   "source": [
    "plc.exotethys(\n",
    "    stellar_logg, stellar_temperature, stellar_metallicity,\n",
    "    filter_name = 'hst_wfc3_ir_g141',\n",
    "    wlrange = [11000, 12000],\n",
    ")"
   ]
  },
  {
   "cell_type": "markdown",
   "id": "dd857cf3",
   "metadata": {},
   "source": [
    "**Example 6**:\n",
    "``` python \n",
    "filter_name='hst_wfc3_ir_g141', method='claret', stellar_model='Phoenix_2018', wlrange = [12000, 13000]\n",
    "```"
   ]
  },
  {
   "cell_type": "code",
   "execution_count": null,
   "id": "39c98da1",
   "metadata": {},
   "outputs": [
    {
     "name": "stdout",
     "output_type": "stream",
     "text": [
      "File already here...  teff06000_logg4.00_MH0.0.pickle\n",
      "File already here...  teff06000_logg4.50_MH0.0.pickle\n",
      "File already here...  teff06100_logg4.00_MH0.0.pickle\n",
      "File already here...  teff06100_logg4.50_MH0.0.pickle\n"
     ]
    }
   ],
   "source": [
    "plc.exotethys(\n",
    "    stellar_logg, stellar_temperature, stellar_metallicity,\n",
    "    filter_name = 'hst_wfc3_ir_g141',\n",
    "    wlrange = [12000, 13000],\n",
    ")"
   ]
  },
  {
   "cell_type": "markdown",
   "id": "bef28779",
   "metadata": {},
   "source": [
    "**Example 7 (fails)**:\n",
    "``` python \n",
    "filter_name='hst_wfc3_ir_g141', method='claret', stellar_model='Phoenix_2018', wlrange = [120000, 130000]\n",
    "```"
   ]
  },
  {
   "cell_type": "code",
   "execution_count": null,
   "id": "ec7660bc",
   "metadata": {},
   "outputs": [],
   "source": [
    "# plc.exotethys(\n",
    "#     stellar_logg, stellar_temperature, stellar_metallicity,\n",
    "#     filter_name = 'hst_wfc3_ir_g141',\n",
    "#     wlrange = [120000, 130000],\n",
    "# )"
   ]
  },
  {
   "cell_type": "markdown",
   "id": "0d1b1b04",
   "metadata": {},
   "source": [
    "### 2.2 ```plc.fp_over_fs``` \n",
    "\n",
    "*calculates the planet-to-star flux ratio (flux emmitted + reflected by the planet)*\n",
    "\n",
    "Here, the ```filter_name``` and ```wlrange``` parameters can be used in the same way as in the ```plc.exotethys``` funcion."
   ]
  },
  {
   "cell_type": "code",
   "execution_count": null,
   "id": "05eeb35e",
   "metadata": {},
   "outputs": [],
   "source": [
    "plc.fp_over_fs(\n",
    "    rp_over_rs, sma_over_rs, albedo, emissivity, \n",
    "    stellar_temperature, filter_name='COUSINS_R')"
   ]
  },
  {
   "cell_type": "markdown",
   "id": "1c53969d",
   "metadata": {},
   "source": [
    "### 2.3 ```plc.convert_to_bjd_tdb```\n",
    "\n",
    "*converts a time array from different time formats to BJD<sub>TDB</sub>*\n",
    "\n",
    "```time_format``` defines the format of the input time-series, and it can be: \n",
    "- ```JD_UTC```\n",
    "- ```MJD_UTC```\n",
    "- ```BJD_UTC```\n",
    "- ```BJD_TDB```\n",
    "- ```BJD_TT```\n",
    "- ```HJD_UTC```\n",
    "- ```HJD_BJD```\n",
    "- ```HJD_TT```"
   ]
  },
  {
   "cell_type": "code",
   "execution_count": null,
   "id": "388b2baa",
   "metadata": {},
   "outputs": [],
   "source": [
    "time_array_in_jd_utc = np.arange(2460000.0, 2460010.0, 0.1)\n",
    "\n",
    "time_array_in_bjd_tdb = plc.convert_to_bjd_tdb(\n",
    "    ra, dec, time_array_in_jd_utc, time_format='JD_UTC')\n",
    "\n",
    "plt.figure(figsize=(7, 5))\n",
    "plt.plot(\n",
    "    time_array_in_bjd_tdb, \n",
    "    (time_array_in_bjd_tdb - time_array_in_jd_utc) * (24 * 60), 'ko')\n",
    "plt.ylabel('$BJD_{TDB}$ - $JD_{UTC}$ (min)')\n",
    "plt.xlabel('Time ($BJD_{TDB}$)')"
   ]
  },
  {
   "cell_type": "markdown",
   "id": "9b1668be",
   "metadata": {},
   "source": [
    "### 2.4 ```plc.convert_to_jd_utc```\n",
    "\n",
    "*converts a time array from different time formats to JD<sub>UTC</sub>*\n",
    "\n",
    "```time_format``` defines the format of the input time-series, and it can be: \n",
    "- ```JD_UTC```\n",
    "- ```MJD_UTC```\n",
    "- ```BJD_UTC```\n",
    "- ```BJD_TDB```\n",
    "- ```BJD_TT```\n",
    "- ```HJD_UTC```\n",
    "- ```HJD_BJD```\n",
    "- ```HJD_TT```"
   ]
  },
  {
   "cell_type": "code",
   "execution_count": null,
   "id": "a7c015ba",
   "metadata": {},
   "outputs": [],
   "source": [
    "time_array_in_bjd_tdb = np.arange(2460000.0, 2460010.0, 0.1)\n",
    "\n",
    "time_array_in_jd_utc = plc.convert_to_jd_utc(\n",
    "    ra, dec, time_array_in_bjd_tdb, time_format='BJD_TDB')\n",
    "\n",
    "plt.figure(figsize=(7, 5))\n",
    "plt.plot(\n",
    "    time_array_in_bjd_tdb, \n",
    "    (time_array_in_bjd_tdb - time_array_in_jd_utc) * (24 * 60), 'ko')\n",
    "plt.ylabel('$BJD_{TDB}$ - $JD_{UTC}$ (min)')\n",
    "plt.xlabel('Time ($BJD_{TDB}$)')"
   ]
  },
  {
   "cell_type": "markdown",
   "id": "7d17d45e",
   "metadata": {},
   "source": [
    "### 2.5 ```plc.convert_to_relflux```\n",
    "\n",
    "*converts a flux array from magnitude to relative flux*\n",
    "\n",
    "```flux_format``` defines the format of the input series, and it can be: \n",
    "- ```flux```\n",
    "- ```mag```"
   ]
  },
  {
   "cell_type": "code",
   "execution_count": null,
   "id": "27f8568f",
   "metadata": {},
   "outputs": [],
   "source": [
    "plc.convert_to_relflux(np.array([9, 9.1, 9.2]), np.array([0.01, 0.01, 0.01]), 'mag')"
   ]
  },
  {
   "cell_type": "markdown",
   "id": "65000686",
   "metadata": {},
   "source": [
    "### 2.6 ```plc.planet_orbit```\n",
    "\n",
    "*calculates the (x,y,z) position of the planet in a cartesian frame with the star at (0,0,0), the Earth at (+infinity,0,0) and the periastron located on the −y axis for $\\omega$=0.*"
   ]
  },
  {
   "cell_type": "code",
   "execution_count": null,
   "id": "a3841c6a",
   "metadata": {},
   "outputs": [],
   "source": [
    "time_array = np.arange(mid_time - 1.5*period, mid_time + 1.5*period, 0.01)\n",
    "\n",
    "x, y, z = plc.planet_orbit(\n",
    "    period, sma_over_rs, eccentricity, inclination, periastron, mid_time, time_array)\n",
    "\n",
    "\n",
    "plt.figure()\n",
    "plt.plot(time_array, x, 'ko', label='x')\n",
    "plt.plot(time_array, y, 'ro', label='y')\n",
    "plt.plot(time_array, z, 'bo', label='z')\n",
    "plt.legend()\n",
    "plt.ylabel('Planet-star distance ($R_*$)')\n",
    "plt.xlabel('Time ($BJD_{TDB}$)')"
   ]
  },
  {
   "cell_type": "markdown",
   "id": "7a34e925",
   "metadata": {},
   "source": [
    "### 2.7 ```plc.planet_star_projected_distance```\n",
    "\n",
    "*calculates the distance between the planet and the star relatively to the stellar radius, as projected on the celestial sphere.*"
   ]
  },
  {
   "cell_type": "code",
   "execution_count": null,
   "id": "51760465",
   "metadata": {},
   "outputs": [],
   "source": [
    "time_array = np.arange(mid_time - 1.5*period, mid_time + 1.5*period, 0.01)\n",
    "\n",
    "planet_star_projected_distance = plc.planet_star_projected_distance(\n",
    "    period, sma_over_rs, eccentricity, inclination, periastron, mid_time, time_array)\n",
    "\n",
    "\n",
    "plt.figure()\n",
    "plt.plot(time_array, planet_star_projected_distance, 'ko')\n",
    "plt.ylabel('Planet-star projected distance ($R_*$)')\n",
    "plt.xlabel('Time ($BJD_{TDB}$)')"
   ]
  },
  {
   "cell_type": "markdown",
   "id": "627be872",
   "metadata": {},
   "source": [
    "### 2.8 ```plc.planet_phase```\n",
    "\n",
    "*calculates the planet phase with respect to the transit mid-time (time of conjunction when the planet is in front of the star, no units)*"
   ]
  },
  {
   "cell_type": "code",
   "execution_count": null,
   "id": "53e80ac0",
   "metadata": {},
   "outputs": [],
   "source": [
    "time_array = np.arange(mid_time - 1.5*period, mid_time + 1.5*period, 0.01)\n",
    "\n",
    "planet_phase = plc.planet_phase(period, mid_time, time_array)\n",
    "\n",
    "\n",
    "plt.figure()\n",
    "plt.plot(time_array, planet_phase, 'ko')\n",
    "plt.ylabel('Planet phase')\n",
    "plt.xlabel('Time ($BJD_{TDB}$)')"
   ]
  },
  {
   "cell_type": "markdown",
   "id": "70b7f104",
   "metadata": {},
   "source": [
    "### 2.9 ```plc.transit_depth```\n",
    "\n",
    "*calculates the transit depth (in relative flux)*"
   ]
  },
  {
   "cell_type": "code",
   "execution_count": null,
   "id": "abc50f13",
   "metadata": {},
   "outputs": [],
   "source": [
    "limb_darkening_coefficients = plc.exotethys(\n",
    "    stellar_logg, stellar_temperature, stellar_metallicity,\n",
    "    filter_name = 'COUSINS_R'\n",
    ")\n",
    "\n",
    "\n",
    "plc.transit_depth(\n",
    "    limb_darkening_coefficients, rp_over_rs, period, sma_over_rs, eccentricity, \n",
    "    inclination, periastron, method='claret', precision=2)"
   ]
  },
  {
   "cell_type": "markdown",
   "id": "9a27bc85",
   "metadata": {},
   "source": [
    "### 2.10 ```plc.transit_duration```\n",
    "\n",
    "*calculates the transit duration (in days)*"
   ]
  },
  {
   "cell_type": "code",
   "execution_count": null,
   "id": "63088546",
   "metadata": {},
   "outputs": [],
   "source": [
    "plc.transit_duration(\n",
    "    rp_over_rs, period, sma_over_rs, eccentricity, inclination, periastron)"
   ]
  },
  {
   "cell_type": "markdown",
   "id": "2e4dd6f3",
   "metadata": {},
   "source": [
    "### 2.11 ```plc.transit_t12```\n",
    "\n",
    "*calculates the time between transit contact points 1 and 2 (in days)*"
   ]
  },
  {
   "cell_type": "code",
   "execution_count": null,
   "id": "b5f05192",
   "metadata": {},
   "outputs": [],
   "source": [
    "plc.transit_t12(rp_over_rs, period, sma_over_rs, eccentricity, inclination, periastron)"
   ]
  },
  {
   "cell_type": "markdown",
   "id": "8008eb8b",
   "metadata": {},
   "source": [
    "### 2.12 ```plc.eclipse_mid_time```\n",
    "\n",
    "*calculates the eclipse mid-time (time of conjunction when the planet is behind the star, in days BJD<sub>TDB</sub>)*"
   ]
  },
  {
   "cell_type": "code",
   "execution_count": null,
   "id": "fea4d446",
   "metadata": {},
   "outputs": [],
   "source": [
    "plc.eclipse_mid_time(period, sma_over_rs, eccentricity, inclination, periastron, mid_time)"
   ]
  },
  {
   "cell_type": "markdown",
   "id": "3ba57fbc",
   "metadata": {},
   "source": [
    "### 2.13 ```plc.eclipse_depth```\n",
    "\n",
    "*calculates the eclipse depth (in relative flux)*"
   ]
  },
  {
   "cell_type": "code",
   "execution_count": null,
   "id": "6019b1e3",
   "metadata": {},
   "outputs": [],
   "source": [
    "fp_over_fs = plc.fp_over_fs(rp_over_rs, sma_over_rs, albedo, \n",
    "                            emissivity, stellar_temperature, filter_name='COUSINS_R')\n",
    "\n",
    "plc.eclipse_depth(fp_over_fs, rp_over_rs, period, sma_over_rs, \n",
    "                  eccentricity, inclination, periastron, precision=2)"
   ]
  },
  {
   "cell_type": "markdown",
   "id": "7b8a65be",
   "metadata": {},
   "source": [
    "### 2.14 ```plc.eclipse_duration```\n",
    "\n",
    "*calculates the eclipse duration (in days)*"
   ]
  },
  {
   "cell_type": "code",
   "execution_count": null,
   "id": "1dbea83e",
   "metadata": {},
   "outputs": [],
   "source": [
    "plc.eclipse_duration(\n",
    "    rp_over_rs, period, sma_over_rs, eccentricity, inclination, periastron)"
   ]
  },
  {
   "cell_type": "markdown",
   "id": "87a1992d",
   "metadata": {},
   "source": [
    "### 2.15 ```plc.transit```\n",
    "\n",
    "*calculates the transit model (in relative flux)*"
   ]
  },
  {
   "cell_type": "code",
   "execution_count": null,
   "id": "b0bc2fe9",
   "metadata": {},
   "outputs": [],
   "source": [
    "# limb_darkening_coefficients = plc.exotethys(\n",
    "#     stellar_logg, stellar_temperature, stellar_metallicity,\n",
    "#     filter_name = 'COUSINS_R'\n",
    "# )\n",
    "\n",
    "time_array = np.arange(mid_time - 0.1, mid_time + 0.1, 0.001)\n",
    "\n",
    "flux = plc.transit(\n",
    "    limb_darkening_coefficients, rp_over_rs, period, sma_over_rs, \n",
    "    eccentricity, inclination, periastron, mid_time, time_array, \n",
    "    method='claret', precision=2)\n",
    "\n",
    "plt.figure()\n",
    "plt.plot(time_array, flux, 'ko')\n",
    "plt.ylabel('Flux (relative)')\n",
    "plt.xlabel('Time ($BJD_{TDB}$)')\n"
   ]
  },
  {
   "cell_type": "markdown",
   "id": "4ddcebfc",
   "metadata": {},
   "source": [
    "### 2.16 ```plc.eclipse```\n",
    "\n",
    "*calculates the eclipse model (in relative flux)*"
   ]
  },
  {
   "cell_type": "code",
   "execution_count": null,
   "id": "9b71a26b",
   "metadata": {},
   "outputs": [],
   "source": [
    "fp_over_fs = plc.fp_over_fs(\n",
    "    rp_over_rs, sma_over_rs, albedo, emissivity, \n",
    "    stellar_temperature, filter_name='COUSINS_R')\n",
    "\n",
    "eclipse_mid_time = plc.eclipse_mid_time(\n",
    "    period, sma_over_rs, eccentricity, inclination, periastron, mid_time)\n",
    "\n",
    "time_array = np.arange(eclipse_mid_time - 0.1, eclipse_mid_time + 0.1, 0.001)\n",
    "\n",
    "flux = plc.eclipse(\n",
    "    fp_over_fs, rp_over_rs, period, sma_over_rs, eccentricity, \n",
    "    inclination, periastron, eclipse_mid_time, time_array, precision=2)\n",
    "\n",
    "\n",
    "plt.figure()\n",
    "plt.plot(time_array, flux, 'ko')\n",
    "plt.ylabel('Flux (relative)')\n",
    "plt.xlabel('Time ($BJD_{TDB}$)')"
   ]
  },
  {
   "cell_type": "markdown",
   "id": "12120e5b",
   "metadata": {},
   "source": [
    "### 2.17 ```plc.transit_integrated```\n",
    "\n",
    "*calculates the exposure-integtared transit model (in relative flux)*"
   ]
  },
  {
   "cell_type": "code",
   "execution_count": null,
   "id": "766174c9",
   "metadata": {},
   "outputs": [],
   "source": [
    "# limb_darkening_coefficients = plc.exotethys(\n",
    "#     stellar_logg, stellar_temperature, stellar_metallicity,\n",
    "#     filter_name = 'COUSINS_R'\n",
    "# )\n",
    "\n",
    "time_array = np.arange(mid_time - 0.1, mid_time + 0.1, 0.001)\n",
    "\n",
    "flux = plc.transit_integrated(\n",
    "    limb_darkening_coefficients, rp_over_rs, period, sma_over_rs, \n",
    "    eccentricity, inclination, periastron, mid_time, time_array, \n",
    "    exp_time=100, method='claret', precision=2)\n",
    "\n",
    "plt.figure()\n",
    "plt.plot(time_array, flux, 'ko')\n",
    "plt.ylabel('Flux (relative)')\n",
    "plt.xlabel('Time ($BJD_{TDB}$)')"
   ]
  },
  {
   "cell_type": "markdown",
   "id": "ab040917",
   "metadata": {},
   "source": [
    "### 2.18 ```plc.eclipse_integrated```\n",
    "\n",
    "*calculates the exposure-integtared eclipse model (in relative flux)*"
   ]
  },
  {
   "cell_type": "code",
   "execution_count": null,
   "id": "d224f778",
   "metadata": {},
   "outputs": [],
   "source": [
    "fp_over_fs = plc.fp_over_fs(\n",
    "    rp_over_rs, sma_over_rs, albedo, emissivity, \n",
    "    stellar_temperature, filter_name='COUSINS_R')\n",
    "\n",
    "eclipse_mid_time = plc.eclipse_mid_time(\n",
    "    period, sma_over_rs, eccentricity, inclination, periastron, mid_time)\n",
    "\n",
    "time_array = np.arange(eclipse_mid_time - 0.1, eclipse_mid_time + 0.1, 0.001)\n",
    "\n",
    "flux = plc.eclipse_integrated(\n",
    "    fp_over_fs, rp_over_rs, period, sma_over_rs, eccentricity, \n",
    "    inclination, periastron, eclipse_mid_time, time_array, \n",
    "    exp_time=100, precision=2)\n",
    "\n",
    "\n",
    "plt.figure()\n",
    "plt.plot(time_array, flux, 'ko')\n",
    "plt.ylabel('Flux (relative)')\n",
    "plt.xlabel('Time ($BJD_{TDB}$)')"
   ]
  },
  {
   "cell_type": "code",
   "execution_count": null,
   "id": "47c68eed",
   "metadata": {},
   "outputs": [],
   "source": []
  }
 ],
 "metadata": {
  "kernelspec": {
   "display_name": "Python 3 (ipykernel)",
   "language": "python",
   "name": "python3"
  },
  "language_info": {
   "codemirror_mode": {
    "name": "ipython",
    "version": 3
   },
   "file_extension": ".py",
   "mimetype": "text/x-python",
   "name": "python",
   "nbconvert_exporter": "python",
   "pygments_lexer": "ipython3",
   "version": "3.11.5"
  }
 },
 "nbformat": 4,
 "nbformat_minor": 5
}
